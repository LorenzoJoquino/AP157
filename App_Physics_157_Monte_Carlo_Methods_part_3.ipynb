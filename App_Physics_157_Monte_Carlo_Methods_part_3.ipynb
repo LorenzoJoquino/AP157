{
  "nbformat": 4,
  "nbformat_minor": 0,
  "metadata": {
    "colab": {
      "name": "App Physics 157 Monte Carlo Methods part 3.ipynb",
      "provenance": [],
      "authorship_tag": "ABX9TyM3lDuVbHOSa5zkAaF7LeyP",
      "include_colab_link": true
    },
    "kernelspec": {
      "name": "python3",
      "display_name": "Python 3"
    },
    "language_info": {
      "name": "python"
    }
  },
  "cells": [
    {
      "cell_type": "markdown",
      "metadata": {
        "id": "view-in-github",
        "colab_type": "text"
      },
      "source": [
        "<a href=\"https://colab.research.google.com/github/LorenzoJoquino/AP157/blob/main/App_Physics_157_Monte_Carlo_Methods_part_3.ipynb\" target=\"_parent\"><img src=\"https://colab.research.google.com/assets/colab-badge.svg\" alt=\"Open In Colab\"/></a>"
      ]
    },
    {
      "cell_type": "code",
      "source": [
        "import math\n",
        "import random as rnd\n",
        "import matplotlib.pyplot as plt\n",
        "import numpy as np"
      ],
      "metadata": {
        "id": "QemEOR8m6jbf"
      },
      "execution_count": null,
      "outputs": []
    },
    {
      "cell_type": "markdown",
      "source": [
        "#2nd Attempt Diffusion Limited Aggregation \n",
        "\n",
        "- I made too many mistakes in my 1st attempt "
      ],
      "metadata": {
        "id": "8O_eED_44mk-"
      }
    },
    {
      "cell_type": "code",
      "execution_count": null,
      "metadata": {
        "id": "8_j4hGvz4VuV"
      },
      "outputs": [],
      "source": [
        "#Let us create a lattice \n",
        "def create_lattice(row_size = 100, col_size = 100): #lattice will extend row_size in both directions, same with col_size \n",
        "  return np.zeros((2*row_size+1, 2*col_size+1))\n",
        "\n"
      ]
    },
    {
      "cell_type": "code",
      "source": [
        "default_seed_location = (create_lattice().shape - np.array([1,1]))//2 \n",
        "default_seed_location"
      ],
      "metadata": {
        "colab": {
          "base_uri": "https://localhost:8080/"
        },
        "id": "m-HJO_Lq-cCE",
        "outputId": "357e7675-b076-487a-8d91-375ecb27da4e"
      },
      "execution_count": null,
      "outputs": [
        {
          "output_type": "execute_result",
          "data": {
            "text/plain": [
              "array([100, 100])"
            ]
          },
          "metadata": {},
          "execution_count": 59
        }
      ]
    },
    {
      "cell_type": "code",
      "source": [
        "np.zeros[2]"
      ],
      "metadata": {
        "colab": {
          "base_uri": "https://localhost:8080/",
          "height": 166
        },
        "id": "bV4--dUBBOTd",
        "outputId": "7734380a-8afe-423d-e8c3-20e0505ac29c"
      },
      "execution_count": null,
      "outputs": [
        {
          "output_type": "error",
          "ename": "TypeError",
          "evalue": "ignored",
          "traceback": [
            "\u001b[0;31m---------------------------------------------------------------------------\u001b[0m",
            "\u001b[0;31mTypeError\u001b[0m                                 Traceback (most recent call last)",
            "\u001b[0;32m<ipython-input-66-e243bb71b2f0>\u001b[0m in \u001b[0;36m<module>\u001b[0;34m()\u001b[0m\n\u001b[0;32m----> 1\u001b[0;31m \u001b[0mnp\u001b[0m\u001b[0;34m.\u001b[0m\u001b[0mzeros\u001b[0m\u001b[0;34m[\u001b[0m\u001b[0;36m2\u001b[0m\u001b[0;34m]\u001b[0m\u001b[0;34m\u001b[0m\u001b[0;34m\u001b[0m\u001b[0m\n\u001b[0m",
            "\u001b[0;31mTypeError\u001b[0m: 'builtin_function_or_method' object is not subscriptable"
          ]
        }
      ]
    },
    {
      "cell_type": "code",
      "source": [
        "def gen_randstep_discrete(L=1):\n",
        "  step = np.random.randint(-L, L+1, 2)\n",
        "  if (step == np.zeros(2)).all():\n",
        "    return gen_randstep_discrete(L)\n",
        "  return step\n",
        "\n",
        "print(gen_randstep_discrete())"
      ],
      "metadata": {
        "colab": {
          "base_uri": "https://localhost:8080/"
        },
        "id": "QuJWifV57Wr9",
        "outputId": "0079c0d6-cb06-4dbf-be3a-d450cf1c63cc"
      },
      "execution_count": null,
      "outputs": [
        {
          "output_type": "stream",
          "name": "stdout",
          "text": [
            "[-1  1]\n"
          ]
        }
      ]
    },
    {
      "cell_type": "code",
      "source": [
        "def check_adjacent(current_location, current_lattice):\n",
        "  "
      ],
      "metadata": {
        "id": "auOuPaKP-T36"
      },
      "execution_count": null,
      "outputs": []
    }
  ]
}