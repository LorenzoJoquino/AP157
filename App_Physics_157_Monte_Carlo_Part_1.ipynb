{
  "nbformat": 4,
  "nbformat_minor": 0,
  "metadata": {
    "colab": {
      "name": "App Physics 157 Monte Carlo Part 1.ipynb",
      "provenance": [],
      "authorship_tag": "ABX9TyOuE8Cs71MASCMvprs9+jgF",
      "include_colab_link": true
    },
    "kernelspec": {
      "name": "python3",
      "display_name": "Python 3"
    },
    "language_info": {
      "name": "python"
    }
  },
  "cells": [
    {
      "cell_type": "markdown",
      "metadata": {
        "id": "view-in-github",
        "colab_type": "text"
      },
      "source": [
        "<a href=\"https://colab.research.google.com/github/LorenzoJoquino/AP157/blob/main/App_Physics_157_Monte_Carlo_Part_1.ipynb\" target=\"_parent\"><img src=\"https://colab.research.google.com/assets/colab-badge.svg\" alt=\"Open In Colab\"/></a>"
      ]
    },
    {
      "cell_type": "markdown",
      "source": [
        "Improving the Previous Ising Model "
      ],
      "metadata": {
        "id": "eNqzjrL3bWF4"
      }
    },
    {
      "cell_type": "markdown",
      "source": [
        "#Function for calculating energy of lattice system\n",
        "def energy_system(spin_lattice, rows_spinLat, col_spinLat):\n",
        "  #first setting variables\n",
        "  sum_rowInter=0\n",
        "  sum_columnInter=0\n",
        "  #will next add the row-row interactions\n",
        "  for i in range(rows_spinLat-1):\n",
        "    prod_adjrow_spins=spin_lattice[i]*spin_lattice[i+1]\n",
        "    sum_rowInter+=sum(prod_adjrow_spins)\n",
        "  #will now transpose lattice in order to add the column-column product interactions\n",
        "  spin_lattice_transpose=spin_lattice.transpose()\n",
        "  #will add the column-column interactions by adding the row-row interactions of the transpose\n",
        "  for j in range(col_spinLat-1):\n",
        "    prod_adjcol_spins=spin_lattice_transpose[j]*spin_lattice_transpose[j+1]\n",
        "    sum_columnInter+=sum(prod_adjcol_spins)\n",
        "  sum_Inter=sum_rowInter+sum_columnInter\n",
        "  energy = sum_Inter*(-J)\n",
        "  return energy\n",
        "#-----------------\n",
        "\n",
        "\n",
        "print(\"The initial energy of the system is \" + str(energy_system(initial_spins, rows, columns)))\n",
        "print(\"The initial magnetization of the system is \" + str(magnetization_system(initial_spins)))\n",
        "\n",
        "Archived"
      ],
      "metadata": {
        "id": "G5gzZCcSkSvz"
      }
    },
    {
      "cell_type": "code",
      "source": [
        "import numpy as np\n",
        "import random as rnd\n",
        "import matplotlib.pyplot as plt"
      ],
      "metadata": {
        "id": "P4073ZxabSqi"
      },
      "execution_count": null,
      "outputs": []
    },
    {
      "cell_type": "markdown",
      "source": [
        "Initialize Variables "
      ],
      "metadata": {
        "id": "9uHr2aNRcL2O"
      }
    },
    {
      "cell_type": "code",
      "source": [
        "J=1\n",
        "k=1  #boltzmann constant\n",
        "T=100  #temperature\n",
        "beta=1/(k*T) #thermodynamic constant\n",
        "B = 0\n",
        "\n",
        "##for style, will ask these variables as inputs \n",
        "#steps=int(input(\"How mamy steps do you want it to process? \"))\n",
        "steps=60000\n",
        "steps_x_axis=[x for x in range(0,steps+1)]\n",
        "\n",
        "#P_spin_0=float(input(\"How do you want your initial probability for spin-up? \"))\n",
        "P_spin_0=0\n",
        "\n",
        "rows=10\n",
        "columns=10"
      ],
      "metadata": {
        "id": "KBXSjbNPcCia"
      },
      "execution_count": null,
      "outputs": []
    },
    {
      "cell_type": "markdown",
      "source": [
        "Initialize spin system (matrix)"
      ],
      "metadata": {
        "id": "VR2eiMjjch84"
      }
    },
    {
      "cell_type": "code",
      "source": [
        "#Block of code assigning initial spins randomly\n",
        "def initialize_spin(rows, columns):\n",
        "  spin=[]\n",
        "  for i in range(rows*columns):\n",
        "    #code that does the random picking (like coinflipping))\n",
        "    assign_spin= 2*np.random.binomial(1, P_spin_0) - 1  #this resolves spin to -1 or 1\n",
        "    spin.append(assign_spin)\n",
        "  #must next turn it into np-type for resphaing \n",
        "  spin_list=np.array(spin)\n",
        "\n",
        "  initial_spins=spin_list.reshape(rows,columns)  #keep this variable in mind\n",
        "  return initial_spins\n",
        "\n",
        "#next, printing output here for testing\n",
        "#print(initial_spins)"
      ],
      "metadata": {
        "id": "4RHQWZTRcnng"
      },
      "execution_count": null,
      "outputs": []
    },
    {
      "cell_type": "code",
      "source": [
        "#Function for calculating magnetization of lattice system \n",
        "def magnetization_system(spin_lattice):\n",
        "  magnetization = sum(sum(spin_lattice))\n",
        "  #when one sum operator is used, it will add all elements along the column... \n",
        "  #...thus, must sum it again to turn it into a single number\n",
        "  return magnetization\n",
        "#----------------------"
      ],
      "metadata": {
        "id": "43Zia_lBkdK5"
      },
      "execution_count": null,
      "outputs": []
    },
    {
      "cell_type": "markdown",
      "source": [
        "Old way of computing energy: but we must optimize it \n",
        "1. Allow multiple kinds of neighbors considered  \n",
        "2. Including magnetic field into the hamiltonian \n",
        "3. Using energy difference instead of getting energies before and after and then comparing them only after "
      ],
      "metadata": {
        "id": "fZrjBOb7dSPC"
      }
    },
    {
      "cell_type": "code",
      "source": [
        "def compute_changeinE_VN(spin_lattice, x, y): \n",
        "  sum_neighbors = spin_lattice[(x+1)%rows][y] + spin_lattice[x-1][y] + spin_lattice[x][(y+1)%columns] + spin_lattice[x][y-1]\n",
        "  #need to adjust for boundary problems first \n",
        "\n",
        "\n",
        "  #change_inE = (-J*sum_neighbors - B)*-2*spin_lattice[x][y]\n",
        "  change_inE = (J*sum_neighbors + B)*2*spin_lattice[x][y] #instead of flipped spin - current spin, I just multiplied current spin by -2 to show difference \n",
        "  return change_inE\n",
        "\n",
        "#compute_changeinE_VN(initial_spins, 5, 5) #just for checking "
      ],
      "metadata": {
        "id": "zw58H_rUdrcp"
      },
      "execution_count": null,
      "outputs": []
    },
    {
      "cell_type": "code",
      "source": [
        "#Let us first define a function for the acceptance probability \n",
        "def Accept_or_Reject(E_change):\n",
        "  if E_change <= 0:\n",
        "    return -1 \n",
        "  if E_change > 0:\n",
        "    accept_posEchange=  (np.e)**(-beta*(E_change))\n",
        "    accept_multiplier= -2*np.random.binomial(1,accept_posEchange) + 1\n",
        "    return accept_multiplier"
      ],
      "metadata": {
        "id": "2PZIGjyCkcCr"
      },
      "execution_count": null,
      "outputs": []
    },
    {
      "cell_type": "code",
      "source": [
        "#New code to run simulation (Metropolis-style) March 2, 2022\n"
      ],
      "metadata": {
        "id": "FmEgyOCnZpfU"
      },
      "execution_count": null,
      "outputs": []
    },
    {
      "cell_type": "code",
      "execution_count": null,
      "metadata": {
        "id": "SplQgtrlYrLS"
      },
      "outputs": [],
      "source": [
        "#Now, let us run the Monte-Carlo simulation (Metropolis-style)\n",
        "\n",
        "#must first set some more variables (y-axis relevant variables)\n",
        "before_spins=initial_spins\n",
        "magnetization_y_axis = [magnetization_system(initial_spins)]\n",
        "energy_y_axis = [energy_system(initial_spins, rows, columns)]\n",
        "\n",
        " #ACTUAL LOOP for SIMULATION Code\n",
        "for q in range(steps):\n",
        "  #choosing a random site\n",
        "  site_rowChosen=rnd.randint(0,rows-1)\n",
        "  site_colChosen=rnd.randint(0,columns-1)\n",
        "\n",
        "  #calculating energy before flip at the start...\n",
        "  #... if q>0, the energy_before would have been substituted already ...\n",
        "  #...with the more recent one (see last line)\n",
        "  if q==0:\n",
        "    energy_before= energy_system(before_spins, rows, columns)\n",
        "  \n",
        "  #will now flip the spin of chosen site (as a proposal)\n",
        "  after_spins=before_spins\n",
        "  after_spins[site_rowChosen][site_colChosen]=-after_spins[site_rowChosen][site_colChosen]\n",
        "  \n",
        "  #calculating energy after flip\n",
        "  energy_after=energy_system(after_spins, rows, columns)\n",
        "  \n",
        "  #verifying acceptance...\n",
        "  test_holder=Accept_or_Reject(energy_after, energy_before, after_spins[site_rowChosen][site_colChosen])\n",
        "  \n",
        "  #We need to revert the energy_after to energy_before if the flip was rejected\n",
        "  if test_holder!=after_spins[site_rowChosen][site_colChosen]:\n",
        "    energy_after=energy_before\n",
        "  #we add this line as well just in case a rejection happens (this will have no effect if flip is accepted)\n",
        "  after_spins[site_rowChosen][site_colChosen]=test_holder\n",
        "  \n",
        "  #calculating new magnetization and adding it to the list to be used in plotting\n",
        "  new_mag=magnetization_system(after_spins)\n",
        "  magnetization_y_axis.append(new_mag)\n",
        "\n",
        "  #will append the energy level as well in order to plot the energy as well \n",
        "  energy_y_axis.append(energy_after)\n",
        "\n",
        "  #The new set of spins should become the old set for the next iteration\n",
        "  before_spins=after_spins\n",
        "\n",
        "  #will substitute the \"new\" energy as the \"old\" energy\n",
        "  energy_before=energy_after\n",
        "\n",
        "\n",
        "#Now Plotting the results (Magnetization vs step#)\n",
        "\n",
        "plt.plot(steps_x_axis, magnetization_y_axis)\n",
        "plt.xlabel('steps')\n",
        "plt.ylabel('magnetization')\n",
        "plt.title('MCMC simulation Lattice System')\n",
        "plt.show()\n",
        "\n",
        "#Now Plotting energy vs steps also\n",
        "plt.plot(steps_x_axis, energy_y_axis)\n",
        "plt.ylabel('energy')\n",
        "plt.xlabel('steps')\n",
        "plt.title('Energy of Lattice System')\n",
        "plt.show()\n",
        "\n",
        "## In case we like to show final configuration\n",
        "#print(\"Final-state spins: \")\n",
        "#print(before_spins)\n",
        "\n",
        "print(\"Final Stats:\")\n",
        "print(\"The final energy of the system is \" + str(energy_after))\n",
        "print(\"The final magnetization is \" + str(new_mag))"
      ]
    }
  ]
}